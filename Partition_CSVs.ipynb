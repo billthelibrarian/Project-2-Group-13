{
 "cells": [
  {
   "cell_type": "code",
   "execution_count": null,
   "id": "511a43ed",
   "metadata": {},
   "outputs": [],
   "source": [
    "# Dependencies\n",
    "\n",
    "import pandas as pd"
   ]
  },
  {
   "cell_type": "code",
   "execution_count": null,
   "id": "34e9567c",
   "metadata": {},
   "outputs": [],
   "source": [
    "filepath1 = \"C:\\\\BNCollegeCourses_2022-02-05.csv\"\n",
    "\n",
    "jumbo_df1 = pd.read_csv(filepath1, encoding=\"Utf-8\", low_memory=False)\n",
    "\n",
    "jumbo_df1.drop_duplicates()\n",
    "\n",
    "jumbo_df1 = jumbo_df1.reset_index(drop=True)\n",
    "\n",
    "jumbo_df1.info()"
   ]
  },
  {
   "cell_type": "code",
   "execution_count": null,
   "id": "a3bdabf4",
   "metadata": {},
   "outputs": [],
   "source": [
    "# Number of csv files with max row size for each\n",
    "\n",
    "num_files = 3\n",
    "row_size = 200_000\n",
    " \n",
    "for i in range(num_files):\n",
    "    \n",
    "    df_ = jumbo_df1[row_size * i:row_size * (i+1)]\n",
    "    \n",
    "    df_.to_csv(f\"Resources\\\\courses_{i+1}.csv\")"
   ]
  },
  {
   "cell_type": "code",
   "execution_count": null,
   "id": "eab62723",
   "metadata": {},
   "outputs": [],
   "source": [
    "filepath2 = \"C:\\\\BNTextbook_2022-02-05.csv\"\n",
    "\n",
    "jumbo_df2 = pd.read_csv(filepath2, encoding=\"Utf-8\", low_memory=False)\n",
    "\n",
    "jumbo_df2 = jumbo_df2.reset_index(drop=True)\n",
    "\n",
    "jumbo_df2.info()"
   ]
  },
  {
   "cell_type": "code",
   "execution_count": null,
   "id": "4966b811",
   "metadata": {},
   "outputs": [],
   "source": [
    "# Number of csv files with max row size for each\n",
    "\n",
    "num_files = 5\n",
    "row_size = 200_000\n",
    " \n",
    "for i in range(num_files):\n",
    "    \n",
    "    df_ = jumbo_df2[row_size * i:row_size * (i+1)]\n",
    "    \n",
    "    df_.to_csv(f\"Resources\\\\textbooks_{i+1}.csv\")"
   ]
  }
 ],
 "metadata": {
  "kernelspec": {
   "display_name": "PythonData38",
   "language": "python",
   "name": "pythondata38"
  },
  "language_info": {
   "codemirror_mode": {
    "name": "ipython",
    "version": 3
   },
   "file_extension": ".py",
   "mimetype": "text/x-python",
   "name": "python",
   "nbconvert_exporter": "python",
   "pygments_lexer": "ipython3",
   "version": "3.9.12"
  }
 },
 "nbformat": 4,
 "nbformat_minor": 5
}
