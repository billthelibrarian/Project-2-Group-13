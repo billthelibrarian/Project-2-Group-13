{
 "cells": [
  {
   "cell_type": "markdown",
   "metadata": {},
   "source": [
    "# Technical Report\n",
    "#### Collegiate Courses - New Textbook Library and Bookstore Data"
   ]
  },
  {
   "cell_type": "markdown",
   "metadata": {},
   "source": [
    "### Overview\n",
    "* We're taking raw data, extracting the information we want, transforming the information so it is in a universal format, and loading into a more user friendly database so analysts can more easily read and present the data. We set a goal of providing this data in ((2nd normal form)) for our analysts."
   ]
  },
  {
   "cell_type": "markdown",
   "metadata": {},
   "source": [
    "### Extract\n",
    "#### We downloaded two files, one with textbook data, and another with college course data.\n",
    "#### The first thing we did was use pandas to remove null values, and information that was not relevent to our requirements, such as \"digital books\", or isolating the \"spring 2022\" courses, etc.\n",
    "* Selecting only certain columns to load: (or selecting null columns not to load). For example, if the source data has three columns (aka \"attributes\"), roll_no, age, and salary, then the selection may take only roll_no and salary. Or, the selection mechanism may ignore all those records where salary is not present (salary = null).\n",
    "\n",
    "* Translating coded values: (e.g., if the source system codes male as \"1\" and female as \"2\", but the warehouse codes male as \"M\" and female as \"F\")\n",
    "\n",
    "* Encoding free-form values: (e.g., mapping \"Male\" to \"M\")\n",
    "\n",
    "* Deriving a new calculated value: (e.g., sale_amount = qty * unit_price)\n",
    "\n",
    "* Sorting or ordering the data based on a list of columns to improve search performance\n",
    "\n",
    "* Joining data from multiple sources (e.g., lookup, merge) and deduplicating the data\n",
    "\n",
    "* Aggregating (for example, rollup — summarizing multiple rows of data — total sales for each store, and for each region, etc.)\n",
    "\n",
    "* Generating surrogate-key values\n",
    "\n",
    "* Transposing or pivoting (turning multiple columns into multiple rows or vice versa)\n",
    "\n",
    "* Splitting a column into multiple columns (e.g., converting a comma-separated list, specified as a string in one column, into individual values in different columns)\n",
    "\n",
    "* Disaggregating repeating columns\n",
    "\n",
    "* Looking up and validating the relevant data from tables or referential files\n",
    "\n",
    "* Applying any form of data validation; failed validation may result in a full rejection of the data, partial rejection, or no rejection at all, and thus none, some, or all of the data is handed over to the next step depending on the rule design and exception handling; many of the above transformations may result in exceptions, e.g., when a code translation parses an unknown code in the extracted data"
   ]
  },
  {
   "cell_type": "markdown",
   "metadata": {},
   "source": [
    "### Transform\n",
    "* We reformatted some numeric data to remove dollar signs, making them more user friendly as integers\n",
    "* In pandas we also explored our data to make sure the formatting would be functional in all categories\n",
    "* Selecting only certain columns to load: (or selecting null columns not to load). For example, if the source data has three columns (aka \"attributes\"), roll_no, age, and salary, then the selection may take only roll_no and salary. Or, the selection mechanism may ignore all those records where salary is not present (salary = null).\n",
    "\n",
    "* Translating coded values: (e.g., if the source system codes male as \"1\" and female as \"2\", but the warehouse codes male as \"M\" and female as \"F\")\n",
    "\n",
    "* Encoding free-form values: (e.g., mapping \"Male\" to \"M\")\n",
    "\n",
    "* Deriving a new calculated value: (e.g., sale_amount = qty * unit_price)\n",
    "\n",
    "* Sorting or ordering the data based on a list of columns to improve search performance\n",
    "\n",
    "* Joining data from multiple sources (e.g., lookup, merge) and deduplicating the data\n",
    "\n",
    "* Aggregating (for example, rollup — summarizing multiple rows of data — total sales for each store, and for each region, etc.)\n",
    "\n",
    "* Generating surrogate-key values\n",
    "\n",
    "* Transposing or pivoting (turning multiple columns into multiple rows or vice versa)\n",
    "\n",
    "* Splitting a column into multiple columns (e.g., converting a comma-separated list, specified as a string in one column, into individual values in different columns)\n",
    "\n",
    "* Disaggregating repeating columns\n",
    "\n",
    "* Looking up and validating the relevant data from tables or referential files\n",
    "\n",
    "* Applying any form of data validation; failed validation may result in a full rejection of the data, partial rejection, or no rejection at all, and thus none, some, or all of the data is handed over to the next step depending on the rule design and exception handling; many of the above transformations may result in exceptions, e.g., when a code translation parses an unknown code in the extracted data"
   ]
  },
  {
   "cell_type": "markdown",
   "metadata": {},
   "source": [
    "### Load\n",
    "* We used PostgreSQL to upload our data into a database called ---------- and tables called ---------&----------\n",
    "* We then created file -----------.sql to create a junction table with a many to many relationship so that entities from either table could be used to uniquely call items from the other."
   ]
  },
  {
   "cell_type": "code",
   "execution_count": null,
   "metadata": {},
   "outputs": [],
   "source": []
  }
 ],
 "metadata": {
  "kernelspec": {
   "display_name": "Python 3 (ipykernel)",
   "language": "python",
   "name": "python3"
  },
  "language_info": {
   "codemirror_mode": {
    "name": "ipython",
    "version": 3
   },
   "file_extension": ".py",
   "mimetype": "text/x-python",
   "name": "python",
   "nbconvert_exporter": "python",
   "pygments_lexer": "ipython3",
   "version": "3.8.13"
  },
  "vscode": {
   "interpreter": {
    "hash": "1445c6c1a0e1268b1047d35eededca9512247ec515644c5d756f4d61d21fe4b3"
   }
  }
 },
 "nbformat": 4,
 "nbformat_minor": 2
}
