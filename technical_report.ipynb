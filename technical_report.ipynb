{
 "cells": [
  {
   "cell_type": "markdown",
   "metadata": {},
   "source": [
    "# Technical Report\n",
    "#### Collegiate Courses - New Textbook Library and Bookstore Data"
   ]
  },
  {
   "cell_type": "markdown",
   "metadata": {},
   "source": [
    "### Overview\n",
    "* We're taking raw data, extracting the information we want, transforming the information so it is in a universal format, and loading into a more user friendly database so analysts can more easily read and present the data. We set a goal of providing this data in ((2nd normal form)) for our analysts."
   ]
  },
  {
   "cell_type": "markdown",
   "metadata": {},
   "source": [
    "### Extract\n",
    "* We downloaded two files, one with textbook data, and another with college course data.\n",
    "\n",
    "* The first thing we did was use pandas to remove null values, and information that was not relevent to our requirements, such as \"digital books\", or isolating the \"spring 2022\" courses, etc.\n"
   ]
  },
  {
   "cell_type": "markdown",
   "metadata": {},
   "source": [
    "### Transform\n",
    "* We reformatted some numeric data to remove dollar signs, making them more user friendly as float type integers\n",
    "\n",
    "# In pandas database manipulation tools, .toframe and .random.42 we also explored our data to look for formatting would be non-functional\n",
    "\n",
    "* We selected only certain columns to load: (or selecting null columns not to load). For example, columns with null values, or irrelevant for analysis, or redundant.\n",
    "\n",
    "* We encoded free-form values in term column to 'SPRING 2022', and normalized all text type to caps in all data fields, all snake_case in header fields. \n",
    "\n",
    "* Looking up and validating the relevant data from tables or referential files\n",
    "* We merged data from the courses table & textbooks table on columns `department_id` & `course_id` using pandas \n",
    "\n",
    "* In the merged table we reduced the list that would be interesting to student consumers or bookstore owners in a way that makes it easy for analysts to display as they choose."
   ]
  },
  {
   "cell_type": "markdown",
   "metadata": {},
   "source": [
    "### Load\n",
    "* We used PostgreSQL to upload our data into a database called `library_db`\n",
    "\n",
    "* We then created file `populate.sql` to create a tables called `courses`, `textbooks`, & `course_textbook` and used PostgresSQl Import tool to populate the data from the csv files of the same name.\n"
   ]
  }
 ],
 "metadata": {
  "kernelspec": {
   "display_name": "Python 3 (ipykernel)",
   "language": "python",
   "name": "python3"
  },
  "language_info": {
   "codemirror_mode": {
    "name": "ipython",
    "version": 3
   },
   "file_extension": ".py",
   "mimetype": "text/x-python",
   "name": "python",
   "nbconvert_exporter": "python",
   "pygments_lexer": "ipython3",
   "version": "3.8.13"
  },
  "vscode": {
   "interpreter": {
    "hash": "1445c6c1a0e1268b1047d35eededca9512247ec515644c5d756f4d61d21fe4b3"
   }
  }
 },
 "nbformat": 4,
 "nbformat_minor": 2
}
