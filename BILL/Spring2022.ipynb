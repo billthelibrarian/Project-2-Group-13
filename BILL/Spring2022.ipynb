{
 "cells": [
  {
   "cell_type": "code",
   "execution_count": null,
   "id": "8ed3ad37",
   "metadata": {},
   "outputs": [],
   "source": [
    "import pandas as pd\n",
    "import numpy as np"
   ]
  },
  {
   "cell_type": "code",
   "execution_count": null,
   "id": "27bad946",
   "metadata": {},
   "outputs": [],
   "source": [
    "pd.set_option('display.max_rows', 500)"
   ]
  },
  {
   "cell_type": "markdown",
   "id": "fe819945",
   "metadata": {},
   "source": [
    "FUNCTIONS"
   ]
  },
  {
   "cell_type": "code",
   "execution_count": null,
   "id": "a8d7e674",
   "metadata": {},
   "outputs": [],
   "source": [
    "def basic_clean(a_df):\n",
    "    '''Performs initial cleaning of df '''\n",
    "    \n",
    "    a_df = a_df.drop_duplicates(keep=\"first\")\n",
    "    \n",
    "    return a_df"
   ]
  },
  {
   "cell_type": "code",
   "execution_count": null,
   "id": "05c92a4f",
   "metadata": {},
   "outputs": [],
   "source": [
    "def all_caps(a_df, a_list):\n",
    "    '''Renders string df columns in supplied list in all caps'''\n",
    "    \n",
    "    for col in a_list:\n",
    "        a_df[col] = a_df[col].str.upper()\n",
    "        \n",
    "    return a_df"
   ]
  },
  {
   "cell_type": "code",
   "execution_count": null,
   "id": "4203f18a",
   "metadata": {},
   "outputs": [],
   "source": [
    "def vc(a_ser):\n",
    "    '''Return value_counts().to_frame() for a pandas series'''\n",
    "    \n",
    "    return a_ser.value_counts().to_frame()"
   ]
  },
  {
   "cell_type": "markdown",
   "id": "aac02cbc",
   "metadata": {},
   "source": [
    "COURSES"
   ]
  },
  {
   "cell_type": "code",
   "execution_count": null,
   "id": "6f9be4cb",
   "metadata": {},
   "outputs": [],
   "source": [
    "filepath1 = \"../../BILL_PROJ2_FILES/BNCollegeCourses_2022-02-05.csv\""
   ]
  },
  {
   "cell_type": "code",
   "execution_count": null,
   "id": "65237c12",
   "metadata": {},
   "outputs": [],
   "source": [
    "df1 = basic_clean(pd.read_csv(filepath1, encoding=\"Utf-8\", low_memory=False))"
   ]
  },
  {
   "cell_type": "code",
   "execution_count": null,
   "id": "5aa882d3",
   "metadata": {},
   "outputs": [],
   "source": [
    "df1.sample(50)"
   ]
  },
  {
   "cell_type": "code",
   "execution_count": null,
   "id": "df0cfbb0",
   "metadata": {},
   "outputs": [],
   "source": [
    "df1.dropna(axis=0, subset=[\"university\", \"term\", \"department\", \"course\", \"section\"], how=\"any\")"
   ]
  },
  {
   "cell_type": "code",
   "execution_count": null,
   "id": "4882f41e",
   "metadata": {},
   "outputs": [],
   "source": [
    "df1 = df1.drop([\"store_id\", \"catalog_id\", \"scanDate\", \"campus\"], axis=1)"
   ]
  },
  {
   "cell_type": "code",
   "execution_count": null,
   "id": "461a67b0",
   "metadata": {},
   "outputs": [],
   "source": [
    "df1"
   ]
  },
  {
   "cell_type": "code",
   "execution_count": null,
   "id": "e330bbf0",
   "metadata": {},
   "outputs": [],
   "source": [
    "df1 = all_caps(df1, [\"university\", \"term\", \"department\", \"course\", \"course_id\", \"section\"])"
   ]
  },
  {
   "cell_type": "code",
   "execution_count": null,
   "id": "fdd96975",
   "metadata": {},
   "outputs": [],
   "source": [
    "df1"
   ]
  },
  {
   "cell_type": "code",
   "execution_count": null,
   "id": "2c463fbc",
   "metadata": {},
   "outputs": [],
   "source": [
    "vc(df1[\"term\"])"
   ]
  },
  {
   "cell_type": "code",
   "execution_count": null,
   "id": "cadc0895",
   "metadata": {},
   "outputs": [],
   "source": [
    "df1 = df1.loc[ (df1[\"term\"].str.contains(\"SPRING\"))  , :]"
   ]
  },
  {
   "cell_type": "code",
   "execution_count": null,
   "id": "5e0b16d7",
   "metadata": {},
   "outputs": [],
   "source": [
    "df1.info()"
   ]
  },
  {
   "cell_type": "code",
   "execution_count": null,
   "id": "77136ae8",
   "metadata": {},
   "outputs": [],
   "source": [
    "df1 = df1.reset_index(drop=True)"
   ]
  },
  {
   "cell_type": "code",
   "execution_count": null,
   "id": "6012c565",
   "metadata": {},
   "outputs": [],
   "source": [
    "courses_clean_df = df1.copy()"
   ]
  },
  {
   "cell_type": "code",
   "execution_count": null,
   "id": "7766bafb",
   "metadata": {},
   "outputs": [],
   "source": [
    "courses_clean_df.info()"
   ]
  },
  {
   "cell_type": "code",
   "execution_count": null,
   "id": "ae5dd28b",
   "metadata": {},
   "outputs": [],
   "source": [
    "courses_clean_df"
   ]
  },
  {
   "cell_type": "code",
   "execution_count": null,
   "id": "e23bb9c6",
   "metadata": {},
   "outputs": [],
   "source": [
    "courses_clean_df.to_csv(\"courses.csv\", encoding=\"utf-8\")"
   ]
  },
  {
   "cell_type": "markdown",
   "id": "7866ae60",
   "metadata": {},
   "source": [
    "TEXTBOOKS"
   ]
  },
  {
   "cell_type": "code",
   "execution_count": null,
   "id": "338c90cb",
   "metadata": {},
   "outputs": [],
   "source": [
    "filepath2 = \"../../BILL_PROJ2_FILES/BNTextbook_2022-02-05.csv\""
   ]
  },
  {
   "cell_type": "code",
   "execution_count": null,
   "id": "1173b913",
   "metadata": {},
   "outputs": [],
   "source": [
    "df2 = pd.read_csv(filepath2, encoding=\"utf-8\", low_memory=False)"
   ]
  },
  {
   "cell_type": "code",
   "execution_count": null,
   "id": "6265c405",
   "metadata": {},
   "outputs": [],
   "source": [
    "df2 = basic_clean(df2)"
   ]
  },
  {
   "cell_type": "code",
   "execution_count": null,
   "id": "7f9c601c",
   "metadata": {},
   "outputs": [],
   "source": [
    "df2 = df2.drop(columns=[\"catalog_id\", \"scanDate\", \"book_url\", \"no_textbook_message\"])"
   ]
  },
  {
   "cell_type": "code",
   "execution_count": null,
   "id": "2cdc9698",
   "metadata": {},
   "outputs": [],
   "source": [
    "all_caps(df2, [\"title\", \"edition\", \"publisher\", \"book_type\", \"book_id\", \"recommend_type\", \"price\"])"
   ]
  },
  {
   "cell_type": "code",
   "execution_count": null,
   "id": "5f49ed71",
   "metadata": {},
   "outputs": [],
   "source": [
    "df2.dropna(axis=0, subset=[\"title\", \"ISBN\", \"price\", \"department_id\", \"course_id\", \"section_id\"], how=\"any\")"
   ]
  },
  {
   "cell_type": "code",
   "execution_count": null,
   "id": "3c55d54b",
   "metadata": {},
   "outputs": [],
   "source": [
    "df2 = df2.reset_index(drop=True)"
   ]
  },
  {
   "cell_type": "code",
   "execution_count": null,
   "id": "464d9f38",
   "metadata": {},
   "outputs": [],
   "source": [
    "vc(df2[\"book_type\"])"
   ]
  },
  {
   "cell_type": "code",
   "execution_count": null,
   "id": "3d380323",
   "metadata": {},
   "outputs": [],
   "source": [
    "df2 = df2.loc[ (df2[\"book_type\"].str.contains(\"NEW\") | df2[\"book_type\"].str.contains(\"DIGITAL\"))  , :]"
   ]
  },
  {
   "cell_type": "code",
   "execution_count": null,
   "id": "aa1e5d99",
   "metadata": {},
   "outputs": [],
   "source": [
    "df2.info()"
   ]
  },
  {
   "cell_type": "code",
   "execution_count": null,
   "id": "2eeb94ae",
   "metadata": {},
   "outputs": [],
   "source": [
    "df2 = df2.drop(columns=[\"store_id\"])"
   ]
  },
  {
   "cell_type": "code",
   "execution_count": null,
   "id": "da102ef7",
   "metadata": {},
   "outputs": [],
   "source": [
    "df2 = df2.astype({\"ISBN\": \"str\"}) "
   ]
  },
  {
   "cell_type": "code",
   "execution_count": null,
   "id": "eda0427a",
   "metadata": {},
   "outputs": [],
   "source": [
    "df2[[\"recommend_type\", \"edition\", \"publisher\", \"ISBN\"]] =\\\n",
    "    df2[[\"recommend_type\", \"edition\", \"publisher\", \"ISBN\"]].fillna(\"unknown\")"
   ]
  },
  {
   "cell_type": "code",
   "execution_count": null,
   "id": "4609f52d",
   "metadata": {},
   "outputs": [],
   "source": [
    "df2.info()"
   ]
  },
  {
   "cell_type": "code",
   "execution_count": null,
   "id": "7efc4cf7",
   "metadata": {},
   "outputs": [],
   "source": [
    "df2[\"ISBN\"] = df2[\"ISBN\"].str.rstrip(\".0\")"
   ]
  },
  {
   "cell_type": "code",
   "execution_count": null,
   "id": "6c22a5cd",
   "metadata": {},
   "outputs": [],
   "source": [
    "df2[\"price\"] = df2[\"price\"].str.lstrip(\"$\")"
   ]
  },
  {
   "cell_type": "code",
   "execution_count": null,
   "id": "5b0f6a62",
   "metadata": {},
   "outputs": [],
   "source": [
    "df2[\"price\"] = df2[\"price\"].str.replace(\",\", \"\", regex=False)"
   ]
  },
  {
   "cell_type": "code",
   "execution_count": null,
   "id": "12807b28",
   "metadata": {},
   "outputs": [],
   "source": [
    "df2[\"price\"] = df2[\"price\"].str.replace(\"PRICE NOT YET AVAILABLE**\", \"0.00\", regex=False)"
   ]
  },
  {
   "cell_type": "code",
   "execution_count": null,
   "id": "5962dce4",
   "metadata": {},
   "outputs": [],
   "source": [
    "df2.info()"
   ]
  },
  {
   "cell_type": "code",
   "execution_count": null,
   "id": "f72787a7",
   "metadata": {},
   "outputs": [],
   "source": [
    "vc(df2[\"price\"])"
   ]
  },
  {
   "cell_type": "code",
   "execution_count": null,
   "id": "e5a23555",
   "metadata": {},
   "outputs": [],
   "source": [
    "df2[\"price\"] = df2[\"price\"].apply(lambda x: float(x))"
   ]
  },
  {
   "cell_type": "code",
   "execution_count": null,
   "id": "54bad546",
   "metadata": {},
   "outputs": [],
   "source": [
    "df2 = df2.rename(columns={\"ISBN\": \"isbn\"})"
   ]
  },
  {
   "cell_type": "code",
   "execution_count": null,
   "id": "55b96759",
   "metadata": {},
   "outputs": [],
   "source": [
    "df2.info()"
   ]
  },
  {
   "cell_type": "code",
   "execution_count": null,
   "id": "ab05fbcc",
   "metadata": {},
   "outputs": [],
   "source": [
    "df2.sample(50)"
   ]
  },
  {
   "cell_type": "code",
   "execution_count": null,
   "id": "a6f6d887",
   "metadata": {},
   "outputs": [],
   "source": [
    "df2 = df2.reset_index(drop=True)"
   ]
  },
  {
   "cell_type": "code",
   "execution_count": null,
   "id": "5d11e3cf",
   "metadata": {},
   "outputs": [],
   "source": [
    "textbooks_clean_df = df2.copy()"
   ]
  },
  {
   "cell_type": "code",
   "execution_count": null,
   "id": "aa5d4ae7",
   "metadata": {},
   "outputs": [],
   "source": [
    "textbooks_clean_df"
   ]
  },
  {
   "cell_type": "code",
   "execution_count": null,
   "id": "bd1d6591",
   "metadata": {
    "scrolled": true
   },
   "outputs": [],
   "source": [
    "textbooks_clean_df.to_csv(\"textbooks.csv\", encoding=\"utf-8\")"
   ]
  }
 ],
 "metadata": {
  "kernelspec": {
   "display_name": "Python 3 (ipykernel)",
   "language": "python",
   "name": "python3"
  },
  "language_info": {
   "codemirror_mode": {
    "name": "ipython",
    "version": 3
   },
   "file_extension": ".py",
   "mimetype": "text/x-python",
   "name": "python",
   "nbconvert_exporter": "python",
   "pygments_lexer": "ipython3",
   "version": "3.8.13"
  },
  "vscode": {
   "interpreter": {
    "hash": "bf9668b974762a48a9fba731c2687cd5dadcd68255289308e9662ee441854090"
   }
  }
 },
 "nbformat": 4,
 "nbformat_minor": 5
}
